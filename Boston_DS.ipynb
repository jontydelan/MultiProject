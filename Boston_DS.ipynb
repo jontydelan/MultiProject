{
  "nbformat": 4,
  "nbformat_minor": 0,
  "metadata": {
    "colab": {
      "name": "havells_2.ipynb",
      "provenance": [],
      "collapsed_sections": []
    },
    "kernelspec": {
      "name": "python3",
      "display_name": "Python 3"
    },
    "language_info": {
      "name": "python"
    },
    "accelerator": "GPU",
    "widgets": {
      "application/vnd.jupyter.widget-state+json": {
        "871c220bcff84700a6e1912271b1b9be": {
          "model_module": "@jupyter-widgets/controls",
          "model_name": "HBoxModel",
          "state": {
            "_view_name": "HBoxView",
            "_dom_classes": [],
            "_model_name": "HBoxModel",
            "_view_module": "@jupyter-widgets/controls",
            "_model_module_version": "1.5.0",
            "_view_count": null,
            "_view_module_version": "1.5.0",
            "box_style": "",
            "layout": "IPY_MODEL_437068a9aa1f4d2d83c354e2451e2e73",
            "_model_module": "@jupyter-widgets/controls",
            "children": [
              "IPY_MODEL_656b21604ce34e44ab884c3d17baab7e",
              "IPY_MODEL_baaa5ace143d4e84b71430a07e37b1ad"
            ]
          }
        },
        "437068a9aa1f4d2d83c354e2451e2e73": {
          "model_module": "@jupyter-widgets/base",
          "model_name": "LayoutModel",
          "state": {
            "_view_name": "LayoutView",
            "grid_template_rows": null,
            "right": null,
            "justify_content": null,
            "_view_module": "@jupyter-widgets/base",
            "overflow": null,
            "_model_module_version": "1.2.0",
            "_view_count": null,
            "flex_flow": null,
            "width": null,
            "min_width": null,
            "border": null,
            "align_items": null,
            "bottom": null,
            "_model_module": "@jupyter-widgets/base",
            "top": null,
            "grid_column": null,
            "overflow_y": null,
            "overflow_x": null,
            "grid_auto_flow": null,
            "grid_area": null,
            "grid_template_columns": null,
            "flex": null,
            "_model_name": "LayoutModel",
            "justify_items": null,
            "grid_row": null,
            "max_height": null,
            "align_content": null,
            "visibility": null,
            "align_self": null,
            "height": null,
            "min_height": null,
            "padding": null,
            "grid_auto_rows": null,
            "grid_gap": null,
            "max_width": null,
            "order": null,
            "_view_module_version": "1.2.0",
            "grid_template_areas": null,
            "object_position": null,
            "object_fit": null,
            "grid_auto_columns": null,
            "margin": null,
            "display": null,
            "left": null
          }
        },
        "656b21604ce34e44ab884c3d17baab7e": {
          "model_module": "@jupyter-widgets/controls",
          "model_name": "FloatProgressModel",
          "state": {
            "_view_name": "ProgressView",
            "style": "IPY_MODEL_e2aa3558bb8145958b05f431ce6e6149",
            "_dom_classes": [],
            "description": "100%",
            "_model_name": "FloatProgressModel",
            "bar_style": "success",
            "max": 100,
            "_view_module": "@jupyter-widgets/controls",
            "_model_module_version": "1.5.0",
            "value": 100,
            "_view_count": null,
            "_view_module_version": "1.5.0",
            "orientation": "horizontal",
            "min": 0,
            "description_tooltip": null,
            "_model_module": "@jupyter-widgets/controls",
            "layout": "IPY_MODEL_5db628a7c5e44ebf82e21d5bf66fa472"
          }
        },
        "baaa5ace143d4e84b71430a07e37b1ad": {
          "model_module": "@jupyter-widgets/controls",
          "model_name": "HTMLModel",
          "state": {
            "_view_name": "HTMLView",
            "style": "IPY_MODEL_e095938651b342c5a6ffad0bc412d8de",
            "_dom_classes": [],
            "description": "",
            "_model_name": "HTMLModel",
            "placeholder": "​",
            "_view_module": "@jupyter-widgets/controls",
            "_model_module_version": "1.5.0",
            "value": " 100/100 [00:22&lt;00:00,  4.48it/s]",
            "_view_count": null,
            "_view_module_version": "1.5.0",
            "description_tooltip": null,
            "_model_module": "@jupyter-widgets/controls",
            "layout": "IPY_MODEL_9e2a6263a8c04e4a99dd3742bd00a40d"
          }
        },
        "e2aa3558bb8145958b05f431ce6e6149": {
          "model_module": "@jupyter-widgets/controls",
          "model_name": "ProgressStyleModel",
          "state": {
            "_view_name": "StyleView",
            "_model_name": "ProgressStyleModel",
            "description_width": "initial",
            "_view_module": "@jupyter-widgets/base",
            "_model_module_version": "1.5.0",
            "_view_count": null,
            "_view_module_version": "1.2.0",
            "bar_color": null,
            "_model_module": "@jupyter-widgets/controls"
          }
        },
        "5db628a7c5e44ebf82e21d5bf66fa472": {
          "model_module": "@jupyter-widgets/base",
          "model_name": "LayoutModel",
          "state": {
            "_view_name": "LayoutView",
            "grid_template_rows": null,
            "right": null,
            "justify_content": null,
            "_view_module": "@jupyter-widgets/base",
            "overflow": null,
            "_model_module_version": "1.2.0",
            "_view_count": null,
            "flex_flow": null,
            "width": null,
            "min_width": null,
            "border": null,
            "align_items": null,
            "bottom": null,
            "_model_module": "@jupyter-widgets/base",
            "top": null,
            "grid_column": null,
            "overflow_y": null,
            "overflow_x": null,
            "grid_auto_flow": null,
            "grid_area": null,
            "grid_template_columns": null,
            "flex": null,
            "_model_name": "LayoutModel",
            "justify_items": null,
            "grid_row": null,
            "max_height": null,
            "align_content": null,
            "visibility": null,
            "align_self": null,
            "height": null,
            "min_height": null,
            "padding": null,
            "grid_auto_rows": null,
            "grid_gap": null,
            "max_width": null,
            "order": null,
            "_view_module_version": "1.2.0",
            "grid_template_areas": null,
            "object_position": null,
            "object_fit": null,
            "grid_auto_columns": null,
            "margin": null,
            "display": null,
            "left": null
          }
        },
        "e095938651b342c5a6ffad0bc412d8de": {
          "model_module": "@jupyter-widgets/controls",
          "model_name": "DescriptionStyleModel",
          "state": {
            "_view_name": "StyleView",
            "_model_name": "DescriptionStyleModel",
            "description_width": "",
            "_view_module": "@jupyter-widgets/base",
            "_model_module_version": "1.5.0",
            "_view_count": null,
            "_view_module_version": "1.2.0",
            "_model_module": "@jupyter-widgets/controls"
          }
        },
        "9e2a6263a8c04e4a99dd3742bd00a40d": {
          "model_module": "@jupyter-widgets/base",
          "model_name": "LayoutModel",
          "state": {
            "_view_name": "LayoutView",
            "grid_template_rows": null,
            "right": null,
            "justify_content": null,
            "_view_module": "@jupyter-widgets/base",
            "overflow": null,
            "_model_module_version": "1.2.0",
            "_view_count": null,
            "flex_flow": null,
            "width": null,
            "min_width": null,
            "border": null,
            "align_items": null,
            "bottom": null,
            "_model_module": "@jupyter-widgets/base",
            "top": null,
            "grid_column": null,
            "overflow_y": null,
            "overflow_x": null,
            "grid_auto_flow": null,
            "grid_area": null,
            "grid_template_columns": null,
            "flex": null,
            "_model_name": "LayoutModel",
            "justify_items": null,
            "grid_row": null,
            "max_height": null,
            "align_content": null,
            "visibility": null,
            "align_self": null,
            "height": null,
            "min_height": null,
            "padding": null,
            "grid_auto_rows": null,
            "grid_gap": null,
            "max_width": null,
            "order": null,
            "_view_module_version": "1.2.0",
            "grid_template_areas": null,
            "object_position": null,
            "object_fit": null,
            "grid_auto_columns": null,
            "margin": null,
            "display": null,
            "left": null
          }
        },
        "19d08738bdd943d589ae4d233942765e": {
          "model_module": "@jupyter-widgets/controls",
          "model_name": "HBoxModel",
          "state": {
            "_view_name": "HBoxView",
            "_dom_classes": [],
            "_model_name": "HBoxModel",
            "_view_module": "@jupyter-widgets/controls",
            "_model_module_version": "1.5.0",
            "_view_count": null,
            "_view_module_version": "1.5.0",
            "box_style": "",
            "layout": "IPY_MODEL_cb466460b3224b6cacbfe9b293badfc1",
            "_model_module": "@jupyter-widgets/controls",
            "children": [
              "IPY_MODEL_30d4a96046234b0bbabf3312de528422",
              "IPY_MODEL_1630f2998f6f4dc9ac409e658bd4cf43"
            ]
          }
        },
        "cb466460b3224b6cacbfe9b293badfc1": {
          "model_module": "@jupyter-widgets/base",
          "model_name": "LayoutModel",
          "state": {
            "_view_name": "LayoutView",
            "grid_template_rows": null,
            "right": null,
            "justify_content": null,
            "_view_module": "@jupyter-widgets/base",
            "overflow": null,
            "_model_module_version": "1.2.0",
            "_view_count": null,
            "flex_flow": null,
            "width": null,
            "min_width": null,
            "border": null,
            "align_items": null,
            "bottom": null,
            "_model_module": "@jupyter-widgets/base",
            "top": null,
            "grid_column": null,
            "overflow_y": null,
            "overflow_x": null,
            "grid_auto_flow": null,
            "grid_area": null,
            "grid_template_columns": null,
            "flex": null,
            "_model_name": "LayoutModel",
            "justify_items": null,
            "grid_row": null,
            "max_height": null,
            "align_content": null,
            "visibility": null,
            "align_self": null,
            "height": null,
            "min_height": null,
            "padding": null,
            "grid_auto_rows": null,
            "grid_gap": null,
            "max_width": null,
            "order": null,
            "_view_module_version": "1.2.0",
            "grid_template_areas": null,
            "object_position": null,
            "object_fit": null,
            "grid_auto_columns": null,
            "margin": null,
            "display": null,
            "left": null
          }
        },
        "30d4a96046234b0bbabf3312de528422": {
          "model_module": "@jupyter-widgets/controls",
          "model_name": "FloatProgressModel",
          "state": {
            "_view_name": "ProgressView",
            "style": "IPY_MODEL_33a2d66bdc724ee28ee0e8359412c6c0",
            "_dom_classes": [],
            "description": "100%",
            "_model_name": "FloatProgressModel",
            "bar_style": "success",
            "max": 100,
            "_view_module": "@jupyter-widgets/controls",
            "_model_module_version": "1.5.0",
            "value": 100,
            "_view_count": null,
            "_view_module_version": "1.5.0",
            "orientation": "horizontal",
            "min": 0,
            "description_tooltip": null,
            "_model_module": "@jupyter-widgets/controls",
            "layout": "IPY_MODEL_bbd0d55d03c24b22962e78c434d5a6f8"
          }
        },
        "1630f2998f6f4dc9ac409e658bd4cf43": {
          "model_module": "@jupyter-widgets/controls",
          "model_name": "HTMLModel",
          "state": {
            "_view_name": "HTMLView",
            "style": "IPY_MODEL_61c74647331a4b4883aea6cae8d320b4",
            "_dom_classes": [],
            "description": "",
            "_model_name": "HTMLModel",
            "placeholder": "​",
            "_view_module": "@jupyter-widgets/controls",
            "_model_module_version": "1.5.0",
            "value": " 100/100 [00:31&lt;00:00,  3.19it/s]",
            "_view_count": null,
            "_view_module_version": "1.5.0",
            "description_tooltip": null,
            "_model_module": "@jupyter-widgets/controls",
            "layout": "IPY_MODEL_ef4459513c0d411680b96f3d7e4badaa"
          }
        },
        "33a2d66bdc724ee28ee0e8359412c6c0": {
          "model_module": "@jupyter-widgets/controls",
          "model_name": "ProgressStyleModel",
          "state": {
            "_view_name": "StyleView",
            "_model_name": "ProgressStyleModel",
            "description_width": "initial",
            "_view_module": "@jupyter-widgets/base",
            "_model_module_version": "1.5.0",
            "_view_count": null,
            "_view_module_version": "1.2.0",
            "bar_color": null,
            "_model_module": "@jupyter-widgets/controls"
          }
        },
        "bbd0d55d03c24b22962e78c434d5a6f8": {
          "model_module": "@jupyter-widgets/base",
          "model_name": "LayoutModel",
          "state": {
            "_view_name": "LayoutView",
            "grid_template_rows": null,
            "right": null,
            "justify_content": null,
            "_view_module": "@jupyter-widgets/base",
            "overflow": null,
            "_model_module_version": "1.2.0",
            "_view_count": null,
            "flex_flow": null,
            "width": null,
            "min_width": null,
            "border": null,
            "align_items": null,
            "bottom": null,
            "_model_module": "@jupyter-widgets/base",
            "top": null,
            "grid_column": null,
            "overflow_y": null,
            "overflow_x": null,
            "grid_auto_flow": null,
            "grid_area": null,
            "grid_template_columns": null,
            "flex": null,
            "_model_name": "LayoutModel",
            "justify_items": null,
            "grid_row": null,
            "max_height": null,
            "align_content": null,
            "visibility": null,
            "align_self": null,
            "height": null,
            "min_height": null,
            "padding": null,
            "grid_auto_rows": null,
            "grid_gap": null,
            "max_width": null,
            "order": null,
            "_view_module_version": "1.2.0",
            "grid_template_areas": null,
            "object_position": null,
            "object_fit": null,
            "grid_auto_columns": null,
            "margin": null,
            "display": null,
            "left": null
          }
        },
        "61c74647331a4b4883aea6cae8d320b4": {
          "model_module": "@jupyter-widgets/controls",
          "model_name": "DescriptionStyleModel",
          "state": {
            "_view_name": "StyleView",
            "_model_name": "DescriptionStyleModel",
            "description_width": "",
            "_view_module": "@jupyter-widgets/base",
            "_model_module_version": "1.5.0",
            "_view_count": null,
            "_view_module_version": "1.2.0",
            "_model_module": "@jupyter-widgets/controls"
          }
        },
        "ef4459513c0d411680b96f3d7e4badaa": {
          "model_module": "@jupyter-widgets/base",
          "model_name": "LayoutModel",
          "state": {
            "_view_name": "LayoutView",
            "grid_template_rows": null,
            "right": null,
            "justify_content": null,
            "_view_module": "@jupyter-widgets/base",
            "overflow": null,
            "_model_module_version": "1.2.0",
            "_view_count": null,
            "flex_flow": null,
            "width": null,
            "min_width": null,
            "border": null,
            "align_items": null,
            "bottom": null,
            "_model_module": "@jupyter-widgets/base",
            "top": null,
            "grid_column": null,
            "overflow_y": null,
            "overflow_x": null,
            "grid_auto_flow": null,
            "grid_area": null,
            "grid_template_columns": null,
            "flex": null,
            "_model_name": "LayoutModel",
            "justify_items": null,
            "grid_row": null,
            "max_height": null,
            "align_content": null,
            "visibility": null,
            "align_self": null,
            "height": null,
            "min_height": null,
            "padding": null,
            "grid_auto_rows": null,
            "grid_gap": null,
            "max_width": null,
            "order": null,
            "_view_module_version": "1.2.0",
            "grid_template_areas": null,
            "object_position": null,
            "object_fit": null,
            "grid_auto_columns": null,
            "margin": null,
            "display": null,
            "left": null
          }
        },
        "0c531c965e814aad91590b491af75c19": {
          "model_module": "@jupyter-widgets/controls",
          "model_name": "HBoxModel",
          "state": {
            "_view_name": "HBoxView",
            "_dom_classes": [],
            "_model_name": "HBoxModel",
            "_view_module": "@jupyter-widgets/controls",
            "_model_module_version": "1.5.0",
            "_view_count": null,
            "_view_module_version": "1.5.0",
            "box_style": "",
            "layout": "IPY_MODEL_b444602f80ce4397b544a089c280210c",
            "_model_module": "@jupyter-widgets/controls",
            "children": [
              "IPY_MODEL_a36f3e31c0044cbfb89e24a13cbff9c9",
              "IPY_MODEL_6acdc50f05b24a70897a36ff3ba0b5b2"
            ]
          }
        },
        "b444602f80ce4397b544a089c280210c": {
          "model_module": "@jupyter-widgets/base",
          "model_name": "LayoutModel",
          "state": {
            "_view_name": "LayoutView",
            "grid_template_rows": null,
            "right": null,
            "justify_content": null,
            "_view_module": "@jupyter-widgets/base",
            "overflow": null,
            "_model_module_version": "1.2.0",
            "_view_count": null,
            "flex_flow": null,
            "width": null,
            "min_width": null,
            "border": null,
            "align_items": null,
            "bottom": null,
            "_model_module": "@jupyter-widgets/base",
            "top": null,
            "grid_column": null,
            "overflow_y": null,
            "overflow_x": null,
            "grid_auto_flow": null,
            "grid_area": null,
            "grid_template_columns": null,
            "flex": null,
            "_model_name": "LayoutModel",
            "justify_items": null,
            "grid_row": null,
            "max_height": null,
            "align_content": null,
            "visibility": null,
            "align_self": null,
            "height": null,
            "min_height": null,
            "padding": null,
            "grid_auto_rows": null,
            "grid_gap": null,
            "max_width": null,
            "order": null,
            "_view_module_version": "1.2.0",
            "grid_template_areas": null,
            "object_position": null,
            "object_fit": null,
            "grid_auto_columns": null,
            "margin": null,
            "display": null,
            "left": null
          }
        },
        "a36f3e31c0044cbfb89e24a13cbff9c9": {
          "model_module": "@jupyter-widgets/controls",
          "model_name": "FloatProgressModel",
          "state": {
            "_view_name": "ProgressView",
            "style": "IPY_MODEL_b2271f121efa4c3da0124e2d316942a7",
            "_dom_classes": [],
            "description": "100%",
            "_model_name": "FloatProgressModel",
            "bar_style": "success",
            "max": 100,
            "_view_module": "@jupyter-widgets/controls",
            "_model_module_version": "1.5.0",
            "value": 100,
            "_view_count": null,
            "_view_module_version": "1.5.0",
            "orientation": "horizontal",
            "min": 0,
            "description_tooltip": null,
            "_model_module": "@jupyter-widgets/controls",
            "layout": "IPY_MODEL_e721a5dea3634a81b621c9e869415924"
          }
        },
        "6acdc50f05b24a70897a36ff3ba0b5b2": {
          "model_module": "@jupyter-widgets/controls",
          "model_name": "HTMLModel",
          "state": {
            "_view_name": "HTMLView",
            "style": "IPY_MODEL_7e49f03e9dbc4a7aa083006f79e80154",
            "_dom_classes": [],
            "description": "",
            "_model_name": "HTMLModel",
            "placeholder": "​",
            "_view_module": "@jupyter-widgets/controls",
            "_model_module_version": "1.5.0",
            "value": " 100/100 [00:21&lt;00:00,  4.74it/s]",
            "_view_count": null,
            "_view_module_version": "1.5.0",
            "description_tooltip": null,
            "_model_module": "@jupyter-widgets/controls",
            "layout": "IPY_MODEL_551673582c494f8eaccfd4fce5220e6e"
          }
        },
        "b2271f121efa4c3da0124e2d316942a7": {
          "model_module": "@jupyter-widgets/controls",
          "model_name": "ProgressStyleModel",
          "state": {
            "_view_name": "StyleView",
            "_model_name": "ProgressStyleModel",
            "description_width": "initial",
            "_view_module": "@jupyter-widgets/base",
            "_model_module_version": "1.5.0",
            "_view_count": null,
            "_view_module_version": "1.2.0",
            "bar_color": null,
            "_model_module": "@jupyter-widgets/controls"
          }
        },
        "e721a5dea3634a81b621c9e869415924": {
          "model_module": "@jupyter-widgets/base",
          "model_name": "LayoutModel",
          "state": {
            "_view_name": "LayoutView",
            "grid_template_rows": null,
            "right": null,
            "justify_content": null,
            "_view_module": "@jupyter-widgets/base",
            "overflow": null,
            "_model_module_version": "1.2.0",
            "_view_count": null,
            "flex_flow": null,
            "width": null,
            "min_width": null,
            "border": null,
            "align_items": null,
            "bottom": null,
            "_model_module": "@jupyter-widgets/base",
            "top": null,
            "grid_column": null,
            "overflow_y": null,
            "overflow_x": null,
            "grid_auto_flow": null,
            "grid_area": null,
            "grid_template_columns": null,
            "flex": null,
            "_model_name": "LayoutModel",
            "justify_items": null,
            "grid_row": null,
            "max_height": null,
            "align_content": null,
            "visibility": null,
            "align_self": null,
            "height": null,
            "min_height": null,
            "padding": null,
            "grid_auto_rows": null,
            "grid_gap": null,
            "max_width": null,
            "order": null,
            "_view_module_version": "1.2.0",
            "grid_template_areas": null,
            "object_position": null,
            "object_fit": null,
            "grid_auto_columns": null,
            "margin": null,
            "display": null,
            "left": null
          }
        },
        "7e49f03e9dbc4a7aa083006f79e80154": {
          "model_module": "@jupyter-widgets/controls",
          "model_name": "DescriptionStyleModel",
          "state": {
            "_view_name": "StyleView",
            "_model_name": "DescriptionStyleModel",
            "description_width": "",
            "_view_module": "@jupyter-widgets/base",
            "_model_module_version": "1.5.0",
            "_view_count": null,
            "_view_module_version": "1.2.0",
            "_model_module": "@jupyter-widgets/controls"
          }
        },
        "551673582c494f8eaccfd4fce5220e6e": {
          "model_module": "@jupyter-widgets/base",
          "model_name": "LayoutModel",
          "state": {
            "_view_name": "LayoutView",
            "grid_template_rows": null,
            "right": null,
            "justify_content": null,
            "_view_module": "@jupyter-widgets/base",
            "overflow": null,
            "_model_module_version": "1.2.0",
            "_view_count": null,
            "flex_flow": null,
            "width": null,
            "min_width": null,
            "border": null,
            "align_items": null,
            "bottom": null,
            "_model_module": "@jupyter-widgets/base",
            "top": null,
            "grid_column": null,
            "overflow_y": null,
            "overflow_x": null,
            "grid_auto_flow": null,
            "grid_area": null,
            "grid_template_columns": null,
            "flex": null,
            "_model_name": "LayoutModel",
            "justify_items": null,
            "grid_row": null,
            "max_height": null,
            "align_content": null,
            "visibility": null,
            "align_self": null,
            "height": null,
            "min_height": null,
            "padding": null,
            "grid_auto_rows": null,
            "grid_gap": null,
            "max_width": null,
            "order": null,
            "_view_module_version": "1.2.0",
            "grid_template_areas": null,
            "object_position": null,
            "object_fit": null,
            "grid_auto_columns": null,
            "margin": null,
            "display": null,
            "left": null
          }
        },
        "54f9b8666cb24b748f28795b05a16031": {
          "model_module": "@jupyter-widgets/controls",
          "model_name": "HBoxModel",
          "state": {
            "_view_name": "HBoxView",
            "_dom_classes": [],
            "_model_name": "HBoxModel",
            "_view_module": "@jupyter-widgets/controls",
            "_model_module_version": "1.5.0",
            "_view_count": null,
            "_view_module_version": "1.5.0",
            "box_style": "",
            "layout": "IPY_MODEL_713b5bffd569499f912ae40d3016a42d",
            "_model_module": "@jupyter-widgets/controls",
            "children": [
              "IPY_MODEL_f0a5adb670eb4705bd5640f5e5cc673f",
              "IPY_MODEL_2798781efaf14d828edf47888ec07caf"
            ]
          }
        },
        "713b5bffd569499f912ae40d3016a42d": {
          "model_module": "@jupyter-widgets/base",
          "model_name": "LayoutModel",
          "state": {
            "_view_name": "LayoutView",
            "grid_template_rows": null,
            "right": null,
            "justify_content": null,
            "_view_module": "@jupyter-widgets/base",
            "overflow": null,
            "_model_module_version": "1.2.0",
            "_view_count": null,
            "flex_flow": null,
            "width": null,
            "min_width": null,
            "border": null,
            "align_items": null,
            "bottom": null,
            "_model_module": "@jupyter-widgets/base",
            "top": null,
            "grid_column": null,
            "overflow_y": null,
            "overflow_x": null,
            "grid_auto_flow": null,
            "grid_area": null,
            "grid_template_columns": null,
            "flex": null,
            "_model_name": "LayoutModel",
            "justify_items": null,
            "grid_row": null,
            "max_height": null,
            "align_content": null,
            "visibility": null,
            "align_self": null,
            "height": null,
            "min_height": null,
            "padding": null,
            "grid_auto_rows": null,
            "grid_gap": null,
            "max_width": null,
            "order": null,
            "_view_module_version": "1.2.0",
            "grid_template_areas": null,
            "object_position": null,
            "object_fit": null,
            "grid_auto_columns": null,
            "margin": null,
            "display": null,
            "left": null
          }
        },
        "f0a5adb670eb4705bd5640f5e5cc673f": {
          "model_module": "@jupyter-widgets/controls",
          "model_name": "FloatProgressModel",
          "state": {
            "_view_name": "ProgressView",
            "style": "IPY_MODEL_6005c1fa91764337800dac49083d3153",
            "_dom_classes": [],
            "description": "100%",
            "_model_name": "FloatProgressModel",
            "bar_style": "success",
            "max": 100,
            "_view_module": "@jupyter-widgets/controls",
            "_model_module_version": "1.5.0",
            "value": 100,
            "_view_count": null,
            "_view_module_version": "1.5.0",
            "orientation": "horizontal",
            "min": 0,
            "description_tooltip": null,
            "_model_module": "@jupyter-widgets/controls",
            "layout": "IPY_MODEL_d8d441167feb4e2eb8dfbf540241a8b6"
          }
        },
        "2798781efaf14d828edf47888ec07caf": {
          "model_module": "@jupyter-widgets/controls",
          "model_name": "HTMLModel",
          "state": {
            "_view_name": "HTMLView",
            "style": "IPY_MODEL_148fc794768e444eb94f05fbaaea2356",
            "_dom_classes": [],
            "description": "",
            "_model_name": "HTMLModel",
            "placeholder": "​",
            "_view_module": "@jupyter-widgets/controls",
            "_model_module_version": "1.5.0",
            "value": " 100/100 [00:15&lt;00:00,  6.47it/s]",
            "_view_count": null,
            "_view_module_version": "1.5.0",
            "description_tooltip": null,
            "_model_module": "@jupyter-widgets/controls",
            "layout": "IPY_MODEL_61f43ccaf865418dab2a43c4316ec55b"
          }
        },
        "6005c1fa91764337800dac49083d3153": {
          "model_module": "@jupyter-widgets/controls",
          "model_name": "ProgressStyleModel",
          "state": {
            "_view_name": "StyleView",
            "_model_name": "ProgressStyleModel",
            "description_width": "initial",
            "_view_module": "@jupyter-widgets/base",
            "_model_module_version": "1.5.0",
            "_view_count": null,
            "_view_module_version": "1.2.0",
            "bar_color": null,
            "_model_module": "@jupyter-widgets/controls"
          }
        },
        "d8d441167feb4e2eb8dfbf540241a8b6": {
          "model_module": "@jupyter-widgets/base",
          "model_name": "LayoutModel",
          "state": {
            "_view_name": "LayoutView",
            "grid_template_rows": null,
            "right": null,
            "justify_content": null,
            "_view_module": "@jupyter-widgets/base",
            "overflow": null,
            "_model_module_version": "1.2.0",
            "_view_count": null,
            "flex_flow": null,
            "width": null,
            "min_width": null,
            "border": null,
            "align_items": null,
            "bottom": null,
            "_model_module": "@jupyter-widgets/base",
            "top": null,
            "grid_column": null,
            "overflow_y": null,
            "overflow_x": null,
            "grid_auto_flow": null,
            "grid_area": null,
            "grid_template_columns": null,
            "flex": null,
            "_model_name": "LayoutModel",
            "justify_items": null,
            "grid_row": null,
            "max_height": null,
            "align_content": null,
            "visibility": null,
            "align_self": null,
            "height": null,
            "min_height": null,
            "padding": null,
            "grid_auto_rows": null,
            "grid_gap": null,
            "max_width": null,
            "order": null,
            "_view_module_version": "1.2.0",
            "grid_template_areas": null,
            "object_position": null,
            "object_fit": null,
            "grid_auto_columns": null,
            "margin": null,
            "display": null,
            "left": null
          }
        },
        "148fc794768e444eb94f05fbaaea2356": {
          "model_module": "@jupyter-widgets/controls",
          "model_name": "DescriptionStyleModel",
          "state": {
            "_view_name": "StyleView",
            "_model_name": "DescriptionStyleModel",
            "description_width": "",
            "_view_module": "@jupyter-widgets/base",
            "_model_module_version": "1.5.0",
            "_view_count": null,
            "_view_module_version": "1.2.0",
            "_model_module": "@jupyter-widgets/controls"
          }
        },
        "61f43ccaf865418dab2a43c4316ec55b": {
          "model_module": "@jupyter-widgets/base",
          "model_name": "LayoutModel",
          "state": {
            "_view_name": "LayoutView",
            "grid_template_rows": null,
            "right": null,
            "justify_content": null,
            "_view_module": "@jupyter-widgets/base",
            "overflow": null,
            "_model_module_version": "1.2.0",
            "_view_count": null,
            "flex_flow": null,
            "width": null,
            "min_width": null,
            "border": null,
            "align_items": null,
            "bottom": null,
            "_model_module": "@jupyter-widgets/base",
            "top": null,
            "grid_column": null,
            "overflow_y": null,
            "overflow_x": null,
            "grid_auto_flow": null,
            "grid_area": null,
            "grid_template_columns": null,
            "flex": null,
            "_model_name": "LayoutModel",
            "justify_items": null,
            "grid_row": null,
            "max_height": null,
            "align_content": null,
            "visibility": null,
            "align_self": null,
            "height": null,
            "min_height": null,
            "padding": null,
            "grid_auto_rows": null,
            "grid_gap": null,
            "max_width": null,
            "order": null,
            "_view_module_version": "1.2.0",
            "grid_template_areas": null,
            "object_position": null,
            "object_fit": null,
            "grid_auto_columns": null,
            "margin": null,
            "display": null,
            "left": null
          }
        }
      }
    }
  },
  "cells": [
    {
      "cell_type": "code",
      "metadata": {
        "id": "aFynWNHfwgFh"
      },
      "source": [
        "# !curl http://www.statmt.org/europarl/v7/europarl.tgz --output /content/europarl.tgz"
      ],
      "execution_count": 1,
      "outputs": []
    },
    {
      "cell_type": "code",
      "metadata": {
        "id": "Te9ZBPnswmkl"
      },
      "source": [
        "import pandas as pd\n",
        "import numpy as np\n",
        "\n",
        "import os,sys\n",
        "import re, string\n",
        "\n",
        "import tqdm\n",
        "import matplotlib.pyplot as plt \n",
        "import seaborn as sns \n",
        "\n",
        "from typing import Dict\n",
        "from dataclasses import dataclass"
      ],
      "execution_count": 2,
      "outputs": []
    },
    {
      "cell_type": "code",
      "metadata": {
        "id": "kA--neejwmnB"
      },
      "source": [
        "import torch\n",
        "import torch.nn as nn\n",
        "import torch.nn.functional as F"
      ],
      "execution_count": 3,
      "outputs": []
    },
    {
      "cell_type": "code",
      "metadata": {
        "id": "z27xE8u7Aryw"
      },
      "source": [
        "from sklearn.feature_extraction.text import CountVectorizer\n",
        "from sklearn.model_selection import train_test_split\n",
        "from sklearn.metrics import accuracy_score, confusion_matrix, classification_report"
      ],
      "execution_count": 4,
      "outputs": []
    },
    {
      "cell_type": "code",
      "metadata": {
        "id": "KIOXtqGrAr7M"
      },
      "source": [
        ""
      ],
      "execution_count": 4,
      "outputs": []
    },
    {
      "cell_type": "code",
      "metadata": {
        "id": "EZwxfmUzAr-T"
      },
      "source": [
        "def process_files(temp_path,files):\n",
        "  res = pd.DataFrame(columns=[\"text\"])\n",
        "  for file in tqdm.notebook.tqdm(files[:100]):\n",
        "    \n",
        "    try:\n",
        "      df = pd.read_csv(os.path.join(temp_path,file), sep='\\n', )\n",
        "    except:\n",
        "      print(\"skipping file : \",file)\n",
        "      continue\n",
        "    df.columns = ['text']\n",
        "    df.dropna(inplace=True)\n",
        "    df.drop(df[df['text'].str.contains('>')].index, inplace = True)\n",
        "    df.drop(df[df['text'].str.contains('<')].index, inplace = True)\n",
        "    res = pd.concat([res,df])\n",
        "\n",
        "  return res\n",
        "  \n",
        "def get_dataset(path:str):\n",
        "  langs = os.listdir(path)\n",
        "  raw = pd.DataFrame(columns=[\"text\",\"lang\"])\n",
        "  for lang in langs:\n",
        "    print(lang)\n",
        "    temp_path = os.path.join(path,lang)\n",
        "    files = os.listdir(temp_path)\n",
        "    df = process_files(temp_path,files)\n",
        "    df['lang'] = [lang]*len(df)\n",
        "    raw = pd.concat([raw,df])\n",
        "    print(f\"Extracted lang data for {lang} \\nNew data points found {len(df)} total {len(raw)}\")\n",
        "    # print(raw.lang.value_counts())\n",
        "  return raw\n",
        "\n",
        "def pre_process(txt:str):\n",
        "  regex = re.compile('[%s]' % re.escape(string.punctuation))\n",
        "  txt = regex.sub(' ', txt)\n",
        "  txt = re.sub(r'[0-9]+', '', txt)\n",
        "  txt = \" \".join(txt.split())\n",
        "  return txt"
      ],
      "execution_count": 5,
      "outputs": []
    },
    {
      "cell_type": "code",
      "metadata": {
        "colab": {
          "base_uri": "https://localhost:8080/",
          "height": 521,
          "referenced_widgets": [
            "871c220bcff84700a6e1912271b1b9be",
            "437068a9aa1f4d2d83c354e2451e2e73",
            "656b21604ce34e44ab884c3d17baab7e",
            "baaa5ace143d4e84b71430a07e37b1ad",
            "e2aa3558bb8145958b05f431ce6e6149",
            "5db628a7c5e44ebf82e21d5bf66fa472",
            "e095938651b342c5a6ffad0bc412d8de",
            "9e2a6263a8c04e4a99dd3742bd00a40d",
            "19d08738bdd943d589ae4d233942765e",
            "cb466460b3224b6cacbfe9b293badfc1",
            "30d4a96046234b0bbabf3312de528422",
            "1630f2998f6f4dc9ac409e658bd4cf43",
            "33a2d66bdc724ee28ee0e8359412c6c0",
            "bbd0d55d03c24b22962e78c434d5a6f8",
            "61c74647331a4b4883aea6cae8d320b4",
            "ef4459513c0d411680b96f3d7e4badaa",
            "0c531c965e814aad91590b491af75c19",
            "b444602f80ce4397b544a089c280210c",
            "a36f3e31c0044cbfb89e24a13cbff9c9",
            "6acdc50f05b24a70897a36ff3ba0b5b2",
            "b2271f121efa4c3da0124e2d316942a7",
            "e721a5dea3634a81b621c9e869415924",
            "7e49f03e9dbc4a7aa083006f79e80154",
            "551673582c494f8eaccfd4fce5220e6e"
          ]
        },
        "id": "aIXsbZwRAsCK",
        "outputId": "689f7d5e-dd04-4c0e-aed5-90044f76ce1d"
      },
      "source": [
        "PATH = './drive/MyDrive/dataset_havells/'\n",
        "# PATH = './drive/MyDrive/testing/'\n",
        "dataset = get_dataset(path=PATH)\n",
        "dataset['text'] = dataset['text'].apply(pre_process)\n",
        "dataset.head()"
      ],
      "execution_count": 6,
      "outputs": [
        {
          "output_type": "stream",
          "text": [
            "es\n"
          ],
          "name": "stdout"
        },
        {
          "output_type": "display_data",
          "data": {
            "application/vnd.jupyter.widget-view+json": {
              "model_id": "871c220bcff84700a6e1912271b1b9be",
              "version_minor": 0,
              "version_major": 2
            },
            "text/plain": [
              "HBox(children=(FloatProgress(value=0.0), HTML(value='')))"
            ]
          },
          "metadata": {
            "tags": []
          }
        },
        {
          "output_type": "stream",
          "text": [
            "\n",
            "Extracted lang data for es \n",
            "New data points found 3502 total 3502\n",
            "fr\n"
          ],
          "name": "stdout"
        },
        {
          "output_type": "display_data",
          "data": {
            "application/vnd.jupyter.widget-view+json": {
              "model_id": "19d08738bdd943d589ae4d233942765e",
              "version_minor": 0,
              "version_major": 2
            },
            "text/plain": [
              "HBox(children=(FloatProgress(value=0.0), HTML(value='')))"
            ]
          },
          "metadata": {
            "tags": []
          }
        },
        {
          "output_type": "stream",
          "text": [
            "skipping file :  ep-11-03-24-006-06.txt\n",
            "\n",
            "Extracted lang data for fr \n",
            "New data points found 3610 total 7112\n",
            "en\n"
          ],
          "name": "stdout"
        },
        {
          "output_type": "display_data",
          "data": {
            "application/vnd.jupyter.widget-view+json": {
              "model_id": "0c531c965e814aad91590b491af75c19",
              "version_minor": 0,
              "version_major": 2
            },
            "text/plain": [
              "HBox(children=(FloatProgress(value=0.0), HTML(value='')))"
            ]
          },
          "metadata": {
            "tags": []
          }
        },
        {
          "output_type": "stream",
          "text": [
            "\n",
            "Extracted lang data for en \n",
            "New data points found 4993 total 12105\n"
          ],
          "name": "stdout"
        },
        {
          "output_type": "execute_result",
          "data": {
            "text/html": [
              "<div>\n",
              "<style scoped>\n",
              "    .dataframe tbody tr th:only-of-type {\n",
              "        vertical-align: middle;\n",
              "    }\n",
              "\n",
              "    .dataframe tbody tr th {\n",
              "        vertical-align: top;\n",
              "    }\n",
              "\n",
              "    .dataframe thead th {\n",
              "        text-align: right;\n",
              "    }\n",
              "</style>\n",
              "<table border=\"1\" class=\"dataframe\">\n",
              "  <thead>\n",
              "    <tr style=\"text-align: right;\">\n",
              "      <th></th>\n",
              "      <th>text</th>\n",
              "      <th>lang</th>\n",
              "    </tr>\n",
              "  </thead>\n",
              "  <tbody>\n",
              "    <tr>\n",
              "      <th>0</th>\n",
              "      <td>Posibilidad de explotar fuentes alternativas d...</td>\n",
              "      <td>es</td>\n",
              "    </tr>\n",
              "    <tr>\n",
              "      <th>2</th>\n",
              "      <td>El siguiente punto es la declaración de la Com...</td>\n",
              "      <td>es</td>\n",
              "    </tr>\n",
              "    <tr>\n",
              "      <th>4</th>\n",
              "      <td>Señora Presidenta Señorías este punto del orde...</td>\n",
              "      <td>es</td>\n",
              "    </tr>\n",
              "    <tr>\n",
              "      <th>6</th>\n",
              "      <td>Asimismo tenemos que considerar cómo se deben ...</td>\n",
              "      <td>es</td>\n",
              "    </tr>\n",
              "    <tr>\n",
              "      <th>8</th>\n",
              "      <td>En la actualidad existe un auge en las ventas ...</td>\n",
              "      <td>es</td>\n",
              "    </tr>\n",
              "  </tbody>\n",
              "</table>\n",
              "</div>"
            ],
            "text/plain": [
              "                                                text lang\n",
              "0  Posibilidad de explotar fuentes alternativas d...   es\n",
              "2  El siguiente punto es la declaración de la Com...   es\n",
              "4  Señora Presidenta Señorías este punto del orde...   es\n",
              "6  Asimismo tenemos que considerar cómo se deben ...   es\n",
              "8  En la actualidad existe un auge en las ventas ...   es"
            ]
          },
          "metadata": {
            "tags": []
          },
          "execution_count": 6
        }
      ]
    },
    {
      "cell_type": "code",
      "metadata": {
        "id": "A3TLp1g4AsD_"
      },
      "source": [
        ""
      ],
      "execution_count": 6,
      "outputs": []
    },
    {
      "cell_type": "code",
      "metadata": {
        "id": "2JH-UCVXAsHh"
      },
      "source": [
        ""
      ],
      "execution_count": 6,
      "outputs": []
    },
    {
      "cell_type": "code",
      "metadata": {
        "id": "X_hZs-YpAsJe"
      },
      "source": [
        ""
      ],
      "execution_count": 6,
      "outputs": []
    },
    {
      "cell_type": "code",
      "metadata": {
        "id": "hg-1xCO_AsMM"
      },
      "source": [
        ""
      ],
      "execution_count": 6,
      "outputs": []
    },
    {
      "cell_type": "code",
      "metadata": {
        "id": "gpa2VU5jAsPT"
      },
      "source": [
        ""
      ],
      "execution_count": 6,
      "outputs": []
    },
    {
      "cell_type": "code",
      "metadata": {
        "id": "LQwdaes9AsSt"
      },
      "source": [
        ""
      ],
      "execution_count": 6,
      "outputs": []
    },
    {
      "cell_type": "code",
      "metadata": {
        "id": "V9aGiYpBAsWj"
      },
      "source": [
        ""
      ],
      "execution_count": 6,
      "outputs": []
    },
    {
      "cell_type": "markdown",
      "metadata": {
        "id": "vtiIGEilF8Kk"
      },
      "source": [
        "# Model By Design"
      ]
    },
    {
      "cell_type": "code",
      "metadata": {
        "id": "P0VF1uGHAsaL"
      },
      "source": [
        ""
      ],
      "execution_count": 6,
      "outputs": []
    },
    {
      "cell_type": "code",
      "metadata": {
        "id": "2qAerf741eNo"
      },
      "source": [
        "@dataclass\n",
        "class Cfg:\n",
        "  in_len:int\n",
        "  out_len:int\n",
        "  device:str = 'cpu'\n",
        "  epoch:int = 100\n",
        "  lr:int = 0.001"
      ],
      "execution_count": 7,
      "outputs": []
    },
    {
      "cell_type": "code",
      "metadata": {
        "id": "6YsafQkfwmpx"
      },
      "source": [
        "class Model(nn.Module):\n",
        "  def __init__(self, cfg:Cfg):\n",
        "    super().__init__()\n",
        "    self.cfg = cfg\n",
        "\n",
        "    self.fc1 = nn.Linear(cfg.in_len, 500)\n",
        "    self.fc2 = nn.Linear(500, 300)\n",
        "    self.fc3 = nn.Linear(300, cfg.out_len)\n",
        "    self.batchnorm1 = nn.BatchNorm1d(500)\n",
        "    self.batchnorm2 = nn.BatchNorm1d(300)\n",
        "    print(f\"Model initialized, \\n Config details -> {cfg} \\n\")\n",
        "\n",
        "  def forward(self, x):\n",
        "    x = F.relu(self.fc1(x))\n",
        "    x = self.batchnorm1(x)\n",
        "    x = F.relu(self.fc2(x))\n",
        "    x = self.batchnorm2(x)\n",
        "    # x = F.softmax(self.fc3(x))\n",
        "    x = self.fc3(x)\n",
        "    return x"
      ],
      "execution_count": 8,
      "outputs": []
    },
    {
      "cell_type": "code",
      "metadata": {
        "id": "7kmbHk4h1wmB"
      },
      "source": [
        ""
      ],
      "execution_count": 8,
      "outputs": []
    },
    {
      "cell_type": "code",
      "metadata": {
        "id": "26rKsQSNKZxp"
      },
      "source": [
        "def _get_accuracy(y_pred, y_test):\n",
        "    y_pred_softmax = torch.log_softmax(y_pred, dim = 1)\n",
        "    _, y_pred_tags = torch.max(y_pred_softmax, dim = 1)    \n",
        "    \n",
        "    correct_pred = (y_pred_tags == y_test).float()\n",
        "    acc = correct_pred.sum() / len(correct_pred)\n",
        "    \n",
        "    acc = torch.round(acc * 100)\n",
        "    \n",
        "    return acc"
      ],
      "execution_count": 9,
      "outputs": []
    },
    {
      "cell_type": "code",
      "metadata": {
        "id": "dKeoFao0Nei9"
      },
      "source": [
        "def show_results(res_):\n",
        "        fig, ax = plt.subplots(\n",
        "            nrows=1, ncols=2,\n",
        "            figsize=(15, 9),\n",
        "        )\n",
        "        sns.lineplot(\n",
        "            x=[i for i in range(len(res_[\"loss_li\"]))], y=np.array(res_[\"loss_li\"]), ax=ax[0]\n",
        "        )\n",
        "        ax[0].legend([\"Loss\"], loc=\"center right\")\n",
        "        sns.lineplot(\n",
        "            x=[i for i in range(len(res_[\"loss_li\"])) if i % 10 == 0],\n",
        "            y=res_[\"accuracy_test\"],\n",
        "            ax=ax[1],\n",
        "        )\n",
        "        sns.lineplot(\n",
        "            x=[i for i in range(len(res_[\"loss_li\"]))], y=res_[\"accuracy_train\"], ax=ax[1]\n",
        "        )\n",
        "        ax[1].legend([\"Test Accuracy\", \"Train Accuracy\"], loc=\"center right\")\n",
        "        # plt.show()"
      ],
      "execution_count": 10,
      "outputs": []
    },
    {
      "cell_type": "code",
      "metadata": {
        "id": "ppzgymCy88Vv"
      },
      "source": [
        ""
      ],
      "execution_count": 10,
      "outputs": []
    },
    {
      "cell_type": "markdown",
      "metadata": {
        "id": "VInfeyeFHyQN"
      },
      "source": [
        "# Training loop"
      ]
    },
    {
      "cell_type": "code",
      "metadata": {
        "id": "W9c_k1jp1XwC"
      },
      "source": [
        "def train_model(model, X_train, X_test, y_train, y_test):\n",
        "    print(\"criteria :  CrossEntropyLoss \\n\",\"Model information : \\n\",model)\n",
        "    criterian = nn.CrossEntropyLoss()\n",
        "    config = model.cfg\n",
        "    device = torch.device(config.device)\n",
        "    print(\"Running on \",config.device)\n",
        "\n",
        "    model.to(device)\n",
        "\n",
        "    optim = torch.optim.Adam(model.parameters(), lr=config.lr, weight_decay=1e-3)\n",
        "\n",
        "    epochs = config.epoch\n",
        "    loss_li = []\n",
        "    accuracy_test = []\n",
        "    accuracy_train = []\n",
        "    for i in tqdm.notebook.tqdm(range(epochs)):\n",
        "\n",
        "        model.train()\n",
        "        X_train, y_train = X_train.to(device), y_train.to(device)\n",
        "        output = model.forward(X_train)\n",
        "        # print(output.shape, np.argmax(output.detach().numpy()))\n",
        "        loss = criterian(output, y_train)\n",
        "        \n",
        "        loss_li.append(loss.cpu().detach().numpy())\n",
        "\n",
        "        acc = _get_accuracy(output, y_train)\n",
        "        accuracy_train.append(acc.cpu().detach().numpy().tolist())\n",
        "\n",
        "        optim.zero_grad()\n",
        "        loss.backward()\n",
        "        optim.step()\n",
        "\n",
        "        if i % 10 == 0:\n",
        "          with torch.no_grad():\n",
        "            model.eval()\n",
        "            X_test, y_test = X_test.to(device), y_test.to(device)\n",
        "            pred = model(X_test)\n",
        "            acc = _get_accuracy(pred,y_test)\n",
        "            # print(f\"At epoch : {i}  loss is : {loss}   Accuracy : {acc*100} %\")\n",
        "            accuracy_test.append(acc.cpu().detach().numpy().tolist())\n",
        "\n",
        "    logs = {\n",
        "        \"loss_li\": loss_li,\n",
        "        \"accuracy_test\": accuracy_test,\n",
        "        \"accuracy_train\": accuracy_train,\n",
        "    }\n",
        "\n",
        "    show_results(logs)\n",
        "    \n",
        "    return model,logs"
      ],
      "execution_count": 11,
      "outputs": []
    },
    {
      "cell_type": "code",
      "metadata": {
        "id": "yrCjDRuiwmsK"
      },
      "source": [
        ""
      ],
      "execution_count": 11,
      "outputs": []
    },
    {
      "cell_type": "code",
      "metadata": {
        "id": "ydPH2ui6b148"
      },
      "source": [
        ""
      ],
      "execution_count": 11,
      "outputs": []
    },
    {
      "cell_type": "markdown",
      "metadata": {
        "id": "E573toWNb3cy"
      },
      "source": [
        "# Generate Vectors"
      ]
    },
    {
      "cell_type": "code",
      "metadata": {
        "id": "0f9coc17v6sn"
      },
      "source": [
        ""
      ],
      "execution_count": 11,
      "outputs": []
    },
    {
      "cell_type": "code",
      "metadata": {
        "id": "txVBNT5Uv8HV"
      },
      "source": [
        "def _make_split(X,y, val=False, test_size=0.2, random_state=42, shuffle=True):\n",
        "    X_train, X_test, y_train, y_test = train_test_split(\n",
        "        X, y, test_size=test_size, random_state=random_state, shuffle=True\n",
        "    )\n",
        "    if val:\n",
        "      X_train, X_val, y_train, y_val = train_test_split(\n",
        "        X_train, y_train, test_size=0.1, random_state=random_state, \n",
        "    )\n",
        "\n",
        "    X_train = torch.FloatTensor(X_train)\n",
        "    X_test = torch.FloatTensor(X_test)\n",
        "    y_train = torch.LongTensor(y_train.values)\n",
        "    y_test = torch.LongTensor(y_test.values)\n",
        "\n",
        "\n",
        "    # y_test = y_test.reshape(-1, 1)\n",
        "    # y_train = y_train.reshape(-1, 1)\n",
        "    print(\"y_train shape : \",y_train.shape)\n",
        "    print(\"x_train shape : \",X_train.shape)\n",
        "    \n",
        "    if val:    \n",
        "      X_val = torch.FloatTensor(X_val)\n",
        "      y_val = torch.LongTensor(y_val.values)\n",
        "      print(\"y_val shape : \",y_val.shape)\n",
        "      return (X_train, X_val, X_test, y_train, y_val, y_test)\n",
        "    \n",
        "    return (X_train, X_test, y_train, y_test)"
      ],
      "execution_count": 12,
      "outputs": []
    },
    {
      "cell_type": "code",
      "metadata": {
        "colab": {
          "base_uri": "https://localhost:8080/"
        },
        "id": "Hllh1h2Bv-V0",
        "outputId": "587e4d1d-e7ad-487a-e5bf-4407ffaa35c6"
      },
      "source": [
        "\"\"\"the Problem of identifying the language can be done by useing binary bag of words representaion.\n",
        "this method can be very effective in solving this problem, in addition its easy to understand \n",
        "and convay to people who are new to the space of nlp\"\"\"\n",
        "vectorizer = CountVectorizer(binary=True)\n",
        "X = vectorizer.fit_transform(dataset['text'].values)\n",
        "X.shape"
      ],
      "execution_count": 13,
      "outputs": [
        {
          "output_type": "execute_result",
          "data": {
            "text/plain": [
              "(12105, 37014)"
            ]
          },
          "metadata": {
            "tags": []
          },
          "execution_count": 13
        }
      ]
    },
    {
      "cell_type": "code",
      "metadata": {
        "colab": {
          "base_uri": "https://localhost:8080/"
        },
        "id": "WGyp_x1M1U38",
        "outputId": "dac7d42d-fec1-4372-cd2f-4e0583f3571b"
      },
      "source": [
        "encoder = {k:v for v,k in enumerate(dataset.lang.unique())}\n",
        "decoder = {v:k for v,k in enumerate(dataset.lang.unique())}\n",
        "# print(encoder)\n",
        "y = dataset['lang'].map(encoder)\n",
        "assert all(y.value_counts().values == dataset.lang.value_counts().values), \"please check the encoder\"\n",
        "y.shape"
      ],
      "execution_count": 14,
      "outputs": [
        {
          "output_type": "execute_result",
          "data": {
            "text/plain": [
              "(12105,)"
            ]
          },
          "metadata": {
            "tags": []
          },
          "execution_count": 14
        }
      ]
    },
    {
      "cell_type": "code",
      "metadata": {
        "id": "x1XItq4j9rQ_"
      },
      "source": [
        "# X_train, X_test, y_train, y_test = _make_split(X.todense(), y, test_size=0.2, random_state=42, shuffle = True)"
      ],
      "execution_count": 15,
      "outputs": []
    },
    {
      "cell_type": "code",
      "metadata": {
        "colab": {
          "base_uri": "https://localhost:8080/"
        },
        "id": "kxUgTRuF1U88",
        "outputId": "1f9eb201-b1aa-45e4-dfbc-87709066f09b"
      },
      "source": [
        "(X_train, X_val, X_test, y_train, y_val, y_test) = _make_split(X.todense(), y, val = True, test_size=0.2, random_state=42)"
      ],
      "execution_count": 16,
      "outputs": [
        {
          "output_type": "stream",
          "text": [
            "y_train shape :  torch.Size([8715])\n",
            "x_train shape :  torch.Size([8715, 37014])\n",
            "y_val shape :  torch.Size([969])\n"
          ],
          "name": "stdout"
        }
      ]
    },
    {
      "cell_type": "code",
      "metadata": {
        "id": "kLJOwfCO1U_3"
      },
      "source": [
        ""
      ],
      "execution_count": 16,
      "outputs": []
    },
    {
      "cell_type": "code",
      "metadata": {
        "id": "-NN6fKxvApyA"
      },
      "source": [
        ""
      ],
      "execution_count": 16,
      "outputs": []
    },
    {
      "cell_type": "code",
      "metadata": {
        "id": "MrOc0OPtAp2a"
      },
      "source": [
        ""
      ],
      "execution_count": 16,
      "outputs": []
    },
    {
      "cell_type": "code",
      "metadata": {
        "id": "4Mq1niMYBevr"
      },
      "source": [
        ""
      ],
      "execution_count": 16,
      "outputs": []
    },
    {
      "cell_type": "code",
      "metadata": {
        "id": "lgjydCrgBe1r"
      },
      "source": [
        ""
      ],
      "execution_count": 16,
      "outputs": []
    },
    {
      "cell_type": "markdown",
      "metadata": {
        "id": "yOy8yY1aGTmf"
      },
      "source": [
        "# RUN"
      ]
    },
    {
      "cell_type": "code",
      "metadata": {
        "id": "ii9osezt1VDh"
      },
      "source": [
        ""
      ],
      "execution_count": 16,
      "outputs": []
    },
    {
      "cell_type": "code",
      "metadata": {
        "id": "aGfIJc1j1VFy"
      },
      "source": [
        ""
      ],
      "execution_count": 16,
      "outputs": []
    },
    {
      "cell_type": "code",
      "metadata": {
        "colab": {
          "base_uri": "https://localhost:8080/",
          "height": 807,
          "referenced_widgets": [
            "54f9b8666cb24b748f28795b05a16031",
            "713b5bffd569499f912ae40d3016a42d",
            "f0a5adb670eb4705bd5640f5e5cc673f",
            "2798781efaf14d828edf47888ec07caf",
            "6005c1fa91764337800dac49083d3153",
            "d8d441167feb4e2eb8dfbf540241a8b6",
            "148fc794768e444eb94f05fbaaea2356",
            "61f43ccaf865418dab2a43c4316ec55b"
          ]
        },
        "id": "mWDGPicbv5eA",
        "outputId": "10253597-c2ef-49f1-df8c-e54bafaf1838"
      },
      "source": [
        "cfg = Cfg(in_len=len(vectorizer.get_feature_names()), out_len=3, epoch = 100,device = \"cuda:0\" if torch.cuda.is_available() else \"cpu\")\n",
        "model = Model(cfg)\n",
        "model,logs = train_model(model, X_train, X_val, y_train, y_val) # using Validation set"
      ],
      "execution_count": 17,
      "outputs": [
        {
          "output_type": "stream",
          "text": [
            "Model initialized, \n",
            " Config details -> Cfg(in_len=37014, out_len=3, device='cuda:0', epoch=100, lr=0.001) \n",
            "\n",
            "criteria :  CrossEntropyLoss \n",
            " Model information : \n",
            " Model(\n",
            "  (fc1): Linear(in_features=37014, out_features=500, bias=True)\n",
            "  (fc2): Linear(in_features=500, out_features=300, bias=True)\n",
            "  (fc3): Linear(in_features=300, out_features=3, bias=True)\n",
            "  (batchnorm1): BatchNorm1d(500, eps=1e-05, momentum=0.1, affine=True, track_running_stats=True)\n",
            "  (batchnorm2): BatchNorm1d(300, eps=1e-05, momentum=0.1, affine=True, track_running_stats=True)\n",
            ")\n",
            "Running on  cuda:0\n"
          ],
          "name": "stdout"
        },
        {
          "output_type": "display_data",
          "data": {
            "application/vnd.jupyter.widget-view+json": {
              "model_id": "54f9b8666cb24b748f28795b05a16031",
              "version_minor": 0,
              "version_major": 2
            },
            "text/plain": [
              "HBox(children=(FloatProgress(value=0.0), HTML(value='')))"
            ]
          },
          "metadata": {
            "tags": []
          }
        },
        {
          "output_type": "stream",
          "text": [
            "\n"
          ],
          "name": "stdout"
        },
        {
          "output_type": "display_data",
          "data": {
            "image/png": "[encoded data removed]",
            "text/plain": [
              "<Figure size 1080x648 with 2 Axes>"
            ]
          },
          "metadata": {
            "tags": [],
            "needs_background": "light"
          }
        }
      ]
    },
    {
      "cell_type": "code",
      "metadata": {
        "id": "fSnUFf-ev5jS"
      },
      "source": [
        "# !ls ./drive/MyDrive/dataset_havells\n",
        "# path = './drive/MyDrive/testing/'\n",
        "# os.getcwd()"
      ],
      "execution_count": 18,
      "outputs": []
    },
    {
      "cell_type": "code",
      "metadata": {
        "id": "WE978sRMhZBh"
      },
      "source": [
        ""
      ],
      "execution_count": 18,
      "outputs": []
    },
    {
      "cell_type": "markdown",
      "metadata": {
        "id": "evOzceoIhaMg"
      },
      "source": [
        "## Getting test Accuracy "
      ]
    },
    {
      "cell_type": "code",
      "metadata": {
        "colab": {
          "base_uri": "https://localhost:8080/"
        },
        "id": "i6AjGV56wgeK",
        "outputId": "677adb8b-d4be-4de5-9155-e2a544ad66ca"
      },
      "source": [
        "with torch.no_grad():\n",
        "  model.eval()\n",
        "  model.to(torch.device('cpu'))\n",
        "  y_pred = model(X_test)\n",
        "  print(\"Acc : \",_get_accuracy(y_pred,y_test).tolist())\n",
        "  _, y_pred_class = torch.max(y_pred, dim = 1)"
      ],
      "execution_count": 19,
      "outputs": [
        {
          "output_type": "stream",
          "text": [
            "Acc :  100.0\n"
          ],
          "name": "stdout"
        }
      ]
    },
    {
      "cell_type": "code",
      "metadata": {
        "id": "mI4cYFuh7CN9"
      },
      "source": [
        ""
      ],
      "execution_count": 19,
      "outputs": []
    },
    {
      "cell_type": "code",
      "metadata": {
        "colab": {
          "base_uri": "https://localhost:8080/",
          "height": 142
        },
        "id": "Yipf-4xiwhmr",
        "outputId": "d41bab50-4a4c-4ccc-8183-876837dae0ff"
      },
      "source": [
        "confusion_matrix_df = pd.DataFrame(confusion_matrix(y_test, y_pred_class)).rename(columns=decoder, index=decoder)\n",
        "confusion_matrix_df"
      ],
      "execution_count": 20,
      "outputs": [
        {
          "output_type": "execute_result",
          "data": {
            "text/html": [
              "<div>\n",
              "<style scoped>\n",
              "    .dataframe tbody tr th:only-of-type {\n",
              "        vertical-align: middle;\n",
              "    }\n",
              "\n",
              "    .dataframe tbody tr th {\n",
              "        vertical-align: top;\n",
              "    }\n",
              "\n",
              "    .dataframe thead th {\n",
              "        text-align: right;\n",
              "    }\n",
              "</style>\n",
              "<table border=\"1\" class=\"dataframe\">\n",
              "  <thead>\n",
              "    <tr style=\"text-align: right;\">\n",
              "      <th></th>\n",
              "      <th>es</th>\n",
              "      <th>fr</th>\n",
              "      <th>en</th>\n",
              "    </tr>\n",
              "  </thead>\n",
              "  <tbody>\n",
              "    <tr>\n",
              "      <th>es</th>\n",
              "      <td>722</td>\n",
              "      <td>0</td>\n",
              "      <td>1</td>\n",
              "    </tr>\n",
              "    <tr>\n",
              "      <th>fr</th>\n",
              "      <td>0</td>\n",
              "      <td>717</td>\n",
              "      <td>2</td>\n",
              "    </tr>\n",
              "    <tr>\n",
              "      <th>en</th>\n",
              "      <td>0</td>\n",
              "      <td>0</td>\n",
              "      <td>979</td>\n",
              "    </tr>\n",
              "  </tbody>\n",
              "</table>\n",
              "</div>"
            ],
            "text/plain": [
              "     es   fr   en\n",
              "es  722    0    1\n",
              "fr    0  717    2\n",
              "en    0    0  979"
            ]
          },
          "metadata": {
            "tags": []
          },
          "execution_count": 20
        }
      ]
    },
    {
      "cell_type": "code",
      "metadata": {
        "colab": {
          "base_uri": "https://localhost:8080/"
        },
        "id": "i98LTgFdwhp_",
        "outputId": "b155d843-03a8-491f-e35f-c6085b647ab2"
      },
      "source": [
        "print(classification_report(y_test, y_pred_class))"
      ],
      "execution_count": 21,
      "outputs": [
        {
          "output_type": "stream",
          "text": [
            "              precision    recall  f1-score   support\n",
            "\n",
            "           0       1.00      1.00      1.00       723\n",
            "           1       1.00      1.00      1.00       719\n",
            "           2       1.00      1.00      1.00       979\n",
            "\n",
            "    accuracy                           1.00      2421\n",
            "   macro avg       1.00      1.00      1.00      2421\n",
            "weighted avg       1.00      1.00      1.00      2421\n",
            "\n"
          ],
          "name": "stdout"
        }
      ]
    },
    {
      "cell_type": "code",
      "metadata": {
        "id": "cOslaKGd166K"
      },
      "source": [
        ""
      ],
      "execution_count": 21,
      "outputs": []
    },
    {
      "cell_type": "code",
      "metadata": {
        "id": "qxpLKVtt0wsd"
      },
      "source": [
        ""
      ],
      "execution_count": 21,
      "outputs": []
    },
    {
      "cell_type": "code",
      "metadata": {
        "id": "wfycdZKX0w1P"
      },
      "source": [
        ""
      ],
      "execution_count": 21,
      "outputs": []
    },
    {
      "cell_type": "code",
      "metadata": {
        "id": "_HQ_KE-50w4A"
      },
      "source": [
        ""
      ],
      "execution_count": 21,
      "outputs": []
    },
    {
      "cell_type": "code",
      "metadata": {
        "id": "8IRNrW2A0w6r"
      },
      "source": [
        ""
      ],
      "execution_count": 21,
      "outputs": []
    }
  ]
}